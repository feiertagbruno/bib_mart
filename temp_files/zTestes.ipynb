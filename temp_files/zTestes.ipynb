{
 "cells": [
  {
   "cell_type": "code",
   "execution_count": 7,
   "metadata": {},
   "outputs": [
    {
     "data": {
      "text/plain": [
       "<re.Match object; span=(0, 4), match='AA21'>"
      ]
     },
     "execution_count": 7,
     "metadata": {},
     "output_type": "execute_result"
    }
   ],
   "source": [
    "import re\n",
    "\n",
    "frase = \"AA21\"\n",
    "\n",
    "a = re.match(r\"[A-Za-z]{2}\\d{2}\", frase)\n",
    "\n",
    "a\n"
   ]
  },
  {
   "cell_type": "code",
   "execution_count": 2,
   "metadata": {},
   "outputs": [
    {
     "data": {
      "text/plain": [
       "{'prim': 1, 'sec': 2}"
      ]
     },
     "execution_count": 2,
     "metadata": {},
     "output_type": "execute_result"
    }
   ],
   "source": [
    "dicio = {\"prim\":1}\n",
    "dicio[\"sec\"] = 2\n",
    "dicio"
   ]
  },
  {
   "cell_type": "code",
   "execution_count": 6,
   "metadata": {},
   "outputs": [
    {
     "name": "stdout",
     "output_type": "stream",
     "text": [
      "1\n",
      "novo\n",
      "tupla\n",
      "[1, 2]\n",
      "novo2\n",
      "tupla2\n",
      "[3, 4]\n"
     ]
    }
   ],
   "source": [
    "tupla = (\"Bruno\",3)\n",
    "print(tupla.count(3))\n",
    "\n",
    "dic = {\"enderecos\":{}}\n",
    "dic[\"enderecos\"][\"novo\"] = (\"tupla\",[1,2])\n",
    "dic[\"enderecos\"][\"novo2\"] = (\"tupla2\",[3,4])\n",
    "for end, lista in dic[\"enderecos\"].items():\n",
    "\tprint(end)\n",
    "\tfor i in lista:\n",
    "\t\tprint(i)"
   ]
  },
  {
   "cell_type": "code",
   "execution_count": 15,
   "metadata": {},
   "outputs": [
    {
     "name": "stdout",
     "output_type": "stream",
     "text": [
      "('naolidos', 'Não lidos')\n",
      "('todos', 'Todos')\n",
      "('lidos', 'Lidos')\n",
      "('lidoeleriadenovo', 'Lido e Leria de novo')\n"
     ]
    }
   ],
   "source": [
    "filtros = {\n",
    "\t\"naolidos\": \"Não lidos\", \n",
    "\t\"todos\": \"Todos\", \n",
    "\t\"lidos\": \"Lidos\", \n",
    "\t\"lidoeleriadenovo\": \"Lido e Leria de novo\"\n",
    "}\n",
    "\n",
    "for fil in filtros.items():\n",
    "\tprint(fil)"
   ]
  }
 ],
 "metadata": {
  "kernelspec": {
   "display_name": "Python 3",
   "language": "python",
   "name": "python3"
  },
  "language_info": {
   "codemirror_mode": {
    "name": "ipython",
    "version": 3
   },
   "file_extension": ".py",
   "mimetype": "text/x-python",
   "name": "python",
   "nbconvert_exporter": "python",
   "pygments_lexer": "ipython3",
   "version": "3.11.5"
  }
 },
 "nbformat": 4,
 "nbformat_minor": 2
}
